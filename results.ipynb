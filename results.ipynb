{
 "cells": [
  {
   "cell_type": "code",
   "execution_count": 1,
   "metadata": {},
   "outputs": [
    {
     "name": "stderr",
     "output_type": "stream",
     "text": [
      "/Users/tibortamas/anaconda3/envs/moverscore_development/lib/python3.12/site-packages/tqdm/auto.py:21: TqdmWarning: IProgress not found. Please update jupyter and ipywidgets. See https://ipywidgets.readthedocs.io/en/stable/user_install.html\n",
      "  from .autonotebook import tqdm as notebook_tqdm\n"
     ]
    }
   ],
   "source": [
    "from src.embedder import TextEmbedder"
   ]
  },
  {
   "cell_type": "code",
   "execution_count": 2,
   "metadata": {},
   "outputs": [],
   "source": [
    "embedder = TextEmbedder()"
   ]
  },
  {
   "cell_type": "code",
   "execution_count": 3,
   "metadata": {},
   "outputs": [],
   "source": [
    "test = ['The big blue whale in the ocean', 'The ocean blue car passed the corner', 'Harry Potter and the half blood prince']"
   ]
  },
  {
   "cell_type": "code",
   "execution_count": 4,
   "metadata": {},
   "outputs": [
    {
     "data": {
      "text/plain": [
       "defaultdict(<function src.embedder.TextEmbedder.create_idf_dict.<locals>.<lambda>()>,\n",
       "            {13156: 0.6931471805599453,\n",
       "             101: 0.0,\n",
       "             2502: 0.6931471805599453,\n",
       "             102: 0.0,\n",
       "             2630: 0.28768207245178085,\n",
       "             1996: 0.0,\n",
       "             1999: 0.6931471805599453,\n",
       "             4153: 0.28768207245178085,\n",
       "             2979: 0.6931471805599453,\n",
       "             2482: 0.6931471805599453,\n",
       "             3420: 0.6931471805599453,\n",
       "             10693: 0.6931471805599453,\n",
       "             2668: 0.6931471805599453,\n",
       "             1998: 0.6931471805599453,\n",
       "             4302: 0.6931471805599453,\n",
       "             3159: 0.6931471805599453,\n",
       "             2431: 0.6931471805599453})"
      ]
     },
     "execution_count": 4,
     "metadata": {},
     "output_type": "execute_result"
    }
   ],
   "source": [
    "embedder.create_idf_dict(test)"
   ]
  },
  {
   "cell_type": "code",
   "execution_count": 5,
   "metadata": {},
   "outputs": [],
   "source": [
    "total_embedding, seq_lengths, attention_mask, padded_idf, tokens = embedder(test, batch_size=1)"
   ]
  },
  {
   "cell_type": "code",
   "execution_count": 6,
   "metadata": {},
   "outputs": [
    {
     "data": {
      "text/plain": [
       "tensor([8, 8, 9])"
      ]
     },
     "execution_count": 6,
     "metadata": {},
     "output_type": "execute_result"
    }
   ],
   "source": [
    "seq_lengths"
   ]
  },
  {
   "cell_type": "code",
   "execution_count": 7,
   "metadata": {},
   "outputs": [
    {
     "data": {
      "text/plain": [
       "tensor([[1, 1, 1, 1, 1, 1, 1, 1, 0],\n",
       "        [1, 1, 1, 1, 1, 1, 1, 1, 0],\n",
       "        [1, 1, 1, 1, 1, 1, 1, 1, 1]])"
      ]
     },
     "execution_count": 7,
     "metadata": {},
     "output_type": "execute_result"
    }
   ],
   "source": [
    "attention_mask"
   ]
  },
  {
   "cell_type": "code",
   "execution_count": 8,
   "metadata": {},
   "outputs": [
    {
     "data": {
      "text/plain": [
       "tensor([[0.6931, 0.0000, 0.2877, 0.6931, 0.0000, 0.0000, 0.6931, 0.2877, 0.0000],\n",
       "        [0.6931, 0.0000, 0.2877, 0.0000, 0.0000, 0.6931, 0.2877, 0.6931, 0.0000],\n",
       "        [0.6931, 0.0000, 0.0000, 0.0000, 0.6931, 0.6931, 0.6931, 0.6931, 0.6931]])"
      ]
     },
     "execution_count": 8,
     "metadata": {},
     "output_type": "execute_result"
    }
   ],
   "source": [
    "padded_idf"
   ]
  },
  {
   "cell_type": "code",
   "execution_count": 9,
   "metadata": {},
   "outputs": [
    {
     "data": {
      "text/plain": [
       "[['[CLS]', 'the', 'big', 'blue', 'whale', 'in', 'the', 'ocean', '[SEP]'],\n",
       " ['[CLS]', 'the', 'ocean', 'blue', 'car', 'passed', 'the', 'corner', '[SEP]'],\n",
       " ['[CLS]',\n",
       "  'harry',\n",
       "  'potter',\n",
       "  'and',\n",
       "  'the',\n",
       "  'half',\n",
       "  'blood',\n",
       "  'prince',\n",
       "  '[SEP]']]"
      ]
     },
     "execution_count": 9,
     "metadata": {},
     "output_type": "execute_result"
    }
   ],
   "source": [
    "tokens"
   ]
  },
  {
   "cell_type": "code",
   "execution_count": 10,
   "metadata": {},
   "outputs": [
    {
     "data": {
      "text/plain": [
       "torch.Size([3, 9, 768])"
      ]
     },
     "execution_count": 10,
     "metadata": {},
     "output_type": "execute_result"
    }
   ],
   "source": [
    "total_embedding.size()"
   ]
  },
  {
   "cell_type": "code",
   "execution_count": 11,
   "metadata": {},
   "outputs": [
    {
     "data": {
      "text/plain": [
       "tensor([[-0.1707, -0.0730,  0.0850,  ..., -0.0722,  0.0944,  0.1601],\n",
       "        [-0.1616, -0.1101,  0.0556,  ..., -0.0934,  0.1780,  0.1683],\n",
       "        [-0.2074, -0.4122,  0.3279,  ..., -0.0498,  0.0423, -0.1078],\n",
       "        ...,\n",
       "        [-0.2591, -0.2822, -0.0546,  ...,  0.0587,  0.0332,  0.1317],\n",
       "        [-0.0274, -0.2099,  0.3109,  ..., -0.1119,  0.3133,  0.1132],\n",
       "        [-0.0556, -0.2880,  0.1174,  ...,  0.2807,  0.0242,  0.2298]])"
      ]
     },
     "execution_count": 11,
     "metadata": {},
     "output_type": "execute_result"
    }
   ],
   "source": [
    "total_embedding[0]"
   ]
  }
 ],
 "metadata": {
  "kernelspec": {
   "display_name": "moverscore_development",
   "language": "python",
   "name": "python3"
  },
  "language_info": {
   "codemirror_mode": {
    "name": "ipython",
    "version": 3
   },
   "file_extension": ".py",
   "mimetype": "text/x-python",
   "name": "python",
   "nbconvert_exporter": "python",
   "pygments_lexer": "ipython3",
   "version": "3.12.1"
  }
 },
 "nbformat": 4,
 "nbformat_minor": 2
}
